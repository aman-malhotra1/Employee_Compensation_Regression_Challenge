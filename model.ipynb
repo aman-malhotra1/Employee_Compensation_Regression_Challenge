{
 "cells": [
  {
   "cell_type": "code",
   "execution_count": 4,
   "metadata": {},
   "outputs": [],
   "source": [
    "# Import important libraries\n",
    "import numpy as np\n",
    "import pandas as pd\n",
    "import seaborn as sns\n",
    "import matplotlib.pyplot as plt\n",
    "import warnings\n",
    "from sklearn.metrics import mean_squared_error\n",
    "warnings.filterwarnings('ignore')\n",
    "pd.set_option('display.max_columns',100)\n",
    "%matplotlib inline"
   ]
  },
  {
   "cell_type": "code",
   "execution_count": 5,
   "metadata": {},
   "outputs": [
    {
     "name": "stdout",
     "output_type": "stream",
     "text": [
      "(287816, 10)\n",
      "(47860, 9)\n"
     ]
    }
   ],
   "source": [
    "# Import training and test data\n",
    "train_data = pd.read_csv('Clean_data_train.csv')\n",
    "test_data = pd.read_csv('Clean_data_test.csv')\n",
    "print(train_data.shape)\n",
    "print(test_data.shape)"
   ]
  },
  {
   "cell_type": "code",
   "execution_count": 6,
   "metadata": {},
   "outputs": [
    {
     "data": {
      "text/html": [
       "<div>\n",
       "<style scoped>\n",
       "    .dataframe tbody tr th:only-of-type {\n",
       "        vertical-align: middle;\n",
       "    }\n",
       "\n",
       "    .dataframe tbody tr th {\n",
       "        vertical-align: top;\n",
       "    }\n",
       "\n",
       "    .dataframe thead th {\n",
       "        text-align: right;\n",
       "    }\n",
       "</style>\n",
       "<table border=\"1\" class=\"dataframe\">\n",
       "  <thead>\n",
       "    <tr style=\"text-align: right;\">\n",
       "      <th></th>\n",
       "      <th>Year</th>\n",
       "      <th>OG</th>\n",
       "      <th>Dept</th>\n",
       "      <th>Union</th>\n",
       "      <th>JF</th>\n",
       "      <th>Job</th>\n",
       "      <th>Salaries</th>\n",
       "      <th>Overtime</th>\n",
       "      <th>H/D</th>\n",
       "      <th>Total_Compensation</th>\n",
       "    </tr>\n",
       "  </thead>\n",
       "  <tbody>\n",
       "    <tr>\n",
       "      <td>0</td>\n",
       "      <td>2015</td>\n",
       "      <td>Community Health</td>\n",
       "      <td>Public Health</td>\n",
       "      <td>SEIU - Health Workers, Local 1021</td>\n",
       "      <td>Med Therapy &amp; Auxiliary</td>\n",
       "      <td>Morgue Attendant</td>\n",
       "      <td>12196</td>\n",
       "      <td>0</td>\n",
       "      <td>0.00</td>\n",
       "      <td>16158</td>\n",
       "    </tr>\n",
       "    <tr>\n",
       "      <td>1</td>\n",
       "      <td>2013</td>\n",
       "      <td>Community Health</td>\n",
       "      <td>Public Health</td>\n",
       "      <td>Stationary Engineers, Local 39</td>\n",
       "      <td>Journeyman Trade</td>\n",
       "      <td>Stationary Engineer</td>\n",
       "      <td>74639</td>\n",
       "      <td>2820</td>\n",
       "      <td>12703.31</td>\n",
       "      <td>115784</td>\n",
       "    </tr>\n",
       "    <tr>\n",
       "      <td>2</td>\n",
       "      <td>2015</td>\n",
       "      <td>General Administration &amp; Finance</td>\n",
       "      <td>Assessor/Recorder</td>\n",
       "      <td>Prof &amp; Tech Engineers - Miscellaneous, Local 21</td>\n",
       "      <td>Appraisal &amp; Taxation</td>\n",
       "      <td>Senior Real Property Appraiser</td>\n",
       "      <td>100554</td>\n",
       "      <td>0</td>\n",
       "      <td>12424.50</td>\n",
       "      <td>144708</td>\n",
       "    </tr>\n",
       "    <tr>\n",
       "      <td>3</td>\n",
       "      <td>2016</td>\n",
       "      <td>Public Protection</td>\n",
       "      <td>Police</td>\n",
       "      <td>Police Officers' Association</td>\n",
       "      <td>Police Services</td>\n",
       "      <td>Sergeant 3</td>\n",
       "      <td>140164</td>\n",
       "      <td>52754</td>\n",
       "      <td>13043.87</td>\n",
       "      <td>242323</td>\n",
       "    </tr>\n",
       "    <tr>\n",
       "      <td>4</td>\n",
       "      <td>2013</td>\n",
       "      <td>Public Works, Transportation &amp; Commerce</td>\n",
       "      <td>PUC Hetch Hetchy</td>\n",
       "      <td>Prof &amp; Tech Engineers - Miscellaneous, Local 21</td>\n",
       "      <td>Information Systems</td>\n",
       "      <td>IS Engineer-Journey</td>\n",
       "      <td>58813</td>\n",
       "      <td>0</td>\n",
       "      <td>7655.28</td>\n",
       "      <td>82106</td>\n",
       "    </tr>\n",
       "  </tbody>\n",
       "</table>\n",
       "</div>"
      ],
      "text/plain": [
       "   Year                                       OG               Dept  \\\n",
       "0  2015                         Community Health      Public Health   \n",
       "1  2013                         Community Health      Public Health   \n",
       "2  2015         General Administration & Finance  Assessor/Recorder   \n",
       "3  2016                        Public Protection             Police   \n",
       "4  2013  Public Works, Transportation & Commerce   PUC Hetch Hetchy   \n",
       "\n",
       "                                             Union                       JF  \\\n",
       "0                SEIU - Health Workers, Local 1021  Med Therapy & Auxiliary   \n",
       "1                   Stationary Engineers, Local 39         Journeyman Trade   \n",
       "2  Prof & Tech Engineers - Miscellaneous, Local 21     Appraisal & Taxation   \n",
       "3                     Police Officers' Association          Police Services   \n",
       "4  Prof & Tech Engineers - Miscellaneous, Local 21      Information Systems   \n",
       "\n",
       "                              Job  Salaries  Overtime       H/D  \\\n",
       "0                Morgue Attendant     12196         0      0.00   \n",
       "1             Stationary Engineer     74639      2820  12703.31   \n",
       "2  Senior Real Property Appraiser    100554         0  12424.50   \n",
       "3                      Sergeant 3    140164     52754  13043.87   \n",
       "4             IS Engineer-Journey     58813         0   7655.28   \n",
       "\n",
       "   Total_Compensation  \n",
       "0               16158  \n",
       "1              115784  \n",
       "2              144708  \n",
       "3              242323  \n",
       "4               82106  "
      ]
     },
     "execution_count": 6,
     "metadata": {},
     "output_type": "execute_result"
    }
   ],
   "source": [
    "train_data.head()"
   ]
  },
  {
   "cell_type": "code",
   "execution_count": 7,
   "metadata": {},
   "outputs": [],
   "source": [
    "# Taking Median value of Salaries , Overtime,and Insurance column as per Categories of Categorical Column\n",
    "train_data['Median_Salary_As_Per_Dept'] = train_data.groupby('Dept')['Salaries'].transform('median')\n",
    "train_data['Median_Overtime_As_Per_Dept'] = train_data.groupby('Dept')['Overtime'].transform('median')\n",
    "train_data['Median_Insurance_As_Per_Dept'] = train_data.groupby('Dept')['H/D'].transform('median')\n",
    "\n",
    "train_data['Median_Salary_As_Per_Union'] = train_data.groupby('Union')['Salaries'].transform('median')\n",
    "train_data['Median_Overtime_As_Per_Union'] = train_data.groupby('Union')['Overtime'].transform('median')\n",
    "train_data['Median_Insurance_As_Per_Union'] = train_data.groupby('Union')['H/D'].transform('median')\n",
    "\n",
    "train_data['Median_Salary_As_Per_JF'] = train_data.groupby('JF')['Salaries'].transform('median')\n",
    "train_data['Median_Overtime_As_Per_JF'] = train_data.groupby('JF')['Overtime'].transform('median')\n",
    "train_data['Median_Insurance_As_Per_JF'] = train_data.groupby('JF')['H/D'].transform('median')\n",
    "\n",
    "train_data['Median_Salary_As_Per_Job'] = train_data.groupby('Job')['Salaries'].transform('median')\n",
    "train_data['Median_Overtime_As_Per_Job'] = train_data.groupby('Job')['Overtime'].transform('median')\n",
    "train_data['Median_Insurance_As_Per_Job'] = train_data.groupby('Job')['H/D'].transform('median')\n",
    "\n",
    "test_data['Median_Salary_As_Per_Dept'] = test_data.groupby('Dept')['Salaries'].transform('median')\n",
    "test_data['Median_Overtime_As_Per_Dept'] = test_data.groupby('Dept')['Overtime'].transform('median')\n",
    "test_data['Median_Insurance_As_Per_Dept'] = test_data.groupby('Dept')['H/D'].transform('median')\n",
    "\n",
    "test_data['Median_Salary_As_Per_Union'] = test_data.groupby('Union')['Salaries'].transform('median')\n",
    "test_data['Median_Overtime_As_Per_Union'] = test_data.groupby('Union')['Overtime'].transform('median')\n",
    "test_data['Median_Insurance_As_Per_Union'] = test_data.groupby('Union')['H/D'].transform('median')\n",
    "\n",
    "test_data['Median_Salary_As_Per_JF'] = test_data.groupby('JF')['Salaries'].transform('median')\n",
    "test_data['Median_Overtime_As_Per_JF'] = test_data.groupby('JF')['Overtime'].transform('median')\n",
    "test_data['Median_Insurance_As_Per_JF'] = test_data.groupby('JF')['H/D'].transform('median')\n",
    "\n",
    "test_data['Median_Salary_As_Per_Job'] = test_data.groupby('Job')['Salaries'].transform('median')\n",
    "test_data['Median_Overtime_As_Per_Job'] = test_data.groupby('Job')['Overtime'].transform('median')\n",
    "test_data['Median_Insurance_As_Per_Job'] = test_data.groupby('Job')['H/D'].transform('median')"
   ]
  },
  {
   "cell_type": "code",
   "execution_count": 8,
   "metadata": {},
   "outputs": [],
   "source": [
    "train_data.drop(labels = ['Dept', 'Union', 'JF', 'Job'], axis=1, inplace=True)\n",
    "test_data.drop(labels = ['Dept', 'Union', 'JF', 'Job'], axis=1, inplace=True)"
   ]
  },
  {
   "cell_type": "code",
   "execution_count": 9,
   "metadata": {},
   "outputs": [
    {
     "name": "stdout",
     "output_type": "stream",
     "text": [
      "(287816, 17)\n",
      "(47860, 17)\n",
      "(287816,)\n"
     ]
    }
   ],
   "source": [
    "X_train = train_data.drop('Total_Compensation', axis=1)\n",
    "y_train = train_data['Total_Compensation']\n",
    "X_test = test_data\n",
    "\n",
    "print(X_train.shape)\n",
    "print(X_test.shape)\n",
    "print(y_train.shape)"
   ]
  },
  {
   "cell_type": "markdown",
   "metadata": {},
   "source": [
    "## CatBoost"
   ]
  },
  {
   "cell_type": "code",
   "execution_count": null,
   "metadata": {},
   "outputs": [],
   "source": [
    "from catboost import CatBoostRegressor\n",
    "cat_boost = CatBoostRegressor(n_estimators=1000, random_state=101, learning_rate=0.05,max_depth=8, colsample_bylevel=1,\n",
    "                             cat_features=['OG'])\n",
    "cat_boost.fit(X_train, y_train)\n",
    "\n",
    "y_train_prediction = cat_boost.predict(X_train)\n",
    "y_test_prediction = cat_boost.predict(X_test)"
   ]
  },
  {
   "cell_type": "code",
   "execution_count": 13,
   "metadata": {},
   "outputs": [
    {
     "name": "stdout",
     "output_type": "stream",
     "text": [
      "Root Mean Squared Error on Training Set : 5542.897785696179\n"
     ]
    }
   ],
   "source": [
    "print(\"Root Mean Squared Error on Training Set :\" ,np.sqrt(mean_squared_error(y_train, y_train_prediction)))"
   ]
  },
  {
   "cell_type": "markdown",
   "metadata": {},
   "source": [
    "**Root_Mean_Squared_Error on Test Set : 6135.29**"
   ]
  },
  {
   "cell_type": "markdown",
   "metadata": {},
   "source": [
    "## XGBoost"
   ]
  },
  {
   "cell_type": "code",
   "execution_count": 14,
   "metadata": {},
   "outputs": [],
   "source": [
    "X_train = pd.get_dummies(X_train,columns=['OG'])\n",
    "X_test = pd.get_dummies(X_test,columns=['OG'])"
   ]
  },
  {
   "cell_type": "code",
   "execution_count": 15,
   "metadata": {},
   "outputs": [
    {
     "name": "stdout",
     "output_type": "stream",
     "text": [
      "Root_Mean Squared Error on Training Set : 4276.745049922959\n"
     ]
    }
   ],
   "source": [
    "from xgboost import XGBRegressor\n",
    "\n",
    "xg_boost = XGBRegressor(learning_rate=0.05,n_estimators=600,max_depth=9, colsample_bytree=1,colsample_bylevel=0.9,\n",
    "                       colsample_bynode=0.9,booster='gbtree', random_state=101)\n",
    "xg_boost.fit(X_train, y_train)\n",
    "\n",
    "y_train_prediction = xg_boost.predict(X_train)\n",
    "y_test_prediction = xg_boost.predict(X_test)\n",
    "\n",
    "print(\"Root_Mean Squared Error on Training Set :\" ,np.sqrt(mean_squared_error(y_train, y_train_prediction)))"
   ]
  },
  {
   "cell_type": "markdown",
   "metadata": {},
   "source": [
    "**Root_Mean_Squared_Error on Test Set : 5881.80**"
   ]
  },
  {
   "cell_type": "markdown",
   "metadata": {},
   "source": [
    "## LightGBM"
   ]
  },
  {
   "cell_type": "code",
   "execution_count": 18,
   "metadata": {},
   "outputs": [
    {
     "name": "stdout",
     "output_type": "stream",
     "text": [
      "Root Mean Squared Error on Training Set : 5472.466110489023\n"
     ]
    }
   ],
   "source": [
    "from lightgbm import LGBMRegressor\n",
    "import re\n",
    "\n",
    "X_train = X_train.rename(columns = lambda x:re.sub('[^A-Za-z0-9_]+', '', x))\n",
    "X_test = X_test.rename(columns = lambda x:re.sub('[^A-Za-z0-9_]+', '', x))\n",
    "\n",
    "lgb_regressor = LGBMRegressor(boosting_type='gbdt', max_depth=9, n_estimators=800,learning_rate=1/20, random_state=101)\n",
    "lgb_regressor.fit(X_train, y_train)\n",
    "\n",
    "y_train_prediction = lgb_regressor.predict(X_train)\n",
    "y_test_prediction = lgb_regressor.predict(X_test)\n",
    "\n",
    "print(\"Root Mean Squared Error on Training Set :\" ,np.sqrt(mean_squared_error(y_train, y_train_prediction)))"
   ]
  },
  {
   "cell_type": "markdown",
   "metadata": {},
   "source": [
    "**Root_Mean_Squared_Error on Test Set : 6136.44**"
   ]
  },
  {
   "cell_type": "code",
   "execution_count": 19,
   "metadata": {},
   "outputs": [],
   "source": [
    "sample_submission = pd.read_csv('sample_submission.csv')\n",
    "sample_submission['Compensation'] = y_test_prediction\n",
    "sample_submission.to_csv('sample_submission_1.csv', index=False)"
   ]
  },
  {
   "cell_type": "code",
   "execution_count": null,
   "metadata": {},
   "outputs": [],
   "source": []
  }
 ],
 "metadata": {
  "kernelspec": {
   "display_name": "Python 3",
   "language": "python",
   "name": "python3"
  },
  "language_info": {
   "codemirror_mode": {
    "name": "ipython",
    "version": 3
   },
   "file_extension": ".py",
   "mimetype": "text/x-python",
   "name": "python",
   "nbconvert_exporter": "python",
   "pygments_lexer": "ipython3",
   "version": "3.7.4"
  }
 },
 "nbformat": 4,
 "nbformat_minor": 2
}
